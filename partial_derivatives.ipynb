{
 "cells": [
  {
   "cell_type": "markdown",
   "source": [
    "f(x, y) = x**2 + y**2  , ^f/^x\r\n",
    "f'(x, y) = 2x"
   ],
   "metadata": {}
  },
  {
   "cell_type": "markdown",
   "source": [
    "f(x, y) = x**2 + y**2  , ^f/^y\r\n",
    "f'(x, y) = 2y"
   ],
   "metadata": {}
  },
  {
   "cell_type": "markdown",
   "source": [
    "f(x, y) = x**2 * y**2  , ^f/^y\r\n",
    "f'(x, y) = 2x**2y"
   ],
   "metadata": {}
  },
  {
   "cell_type": "markdown",
   "source": [
    "f(x, y) = x**2 / y**2  , ^f/^x\r\n",
    "f'(x, y) = 2x/y**2"
   ],
   "metadata": {}
  },
  {
   "cell_type": "markdown",
   "source": [
    "f(x, y) = (x**2 + 2x)/(3x+y**3)  , ^f/^y\r\n",
    "f'(x, y) = -3y**2(x**2+2x)/(y**3+2x)^2"
   ],
   "metadata": {}
  },
  {
   "cell_type": "markdown",
   "source": [
    "Trigonometry"
   ],
   "metadata": {}
  },
  {
   "cell_type": "markdown",
   "source": [
    "f(x, y) = cos(xy), ^f/^x\r\n",
    "f'(x, y) = -ysin(xy)"
   ],
   "metadata": {}
  },
  {
   "cell_type": "markdown",
   "source": [
    "f(x, y) = sin(xy), ^f/^y\r\n",
    "f'(x, y) = xcos(xy)"
   ],
   "metadata": {}
  },
  {
   "cell_type": "markdown",
   "source": [
    "f(x, y) = cos(x^2+4y), ^f/^y\r\n",
    "f'(x, y) = -4sin(x^2+4y)"
   ],
   "metadata": {}
  },
  {
   "cell_type": "markdown",
   "source": [
    "f(x, y) = sin((x/y)^0.5), ^f/^x\r\n",
    "f'(x, y) = (4xy)^0.5*cos((x/y)^0.5)"
   ],
   "metadata": {}
  },
  {
   "cell_type": "markdown",
   "source": [
    "LOGARITHMS"
   ],
   "metadata": {}
  },
  {
   "cell_type": "markdown",
   "source": [
    "f(x, y) = yln(x), ^f/^y\r\n",
    "f'(x, y) = ln(x)"
   ],
   "metadata": {}
  },
  {
   "cell_type": "markdown",
   "source": [
    "f(x, y) = ln(x)-xln(-y), ^f/^x\r\n",
    "f'(x, y) = 1/x - ln(-y)"
   ],
   "metadata": {}
  },
  {
   "cell_type": "markdown",
   "source": [
    "f(x, y) = ln(x)/y, ^f/^y\r\n",
    "f'(x, y) = -ln(x)/y^2"
   ],
   "metadata": {}
  },
  {
   "cell_type": "markdown",
   "source": [
    "f(x, y) = y^2-ln((x^2)y+1), ^f/^y\r\n",
    "f'(x, y) = 2y + (x^2)/y"
   ],
   "metadata": {}
  }
 ],
 "metadata": {
  "orig_nbformat": 4,
  "language_info": {
   "name": "python"
  }
 },
 "nbformat": 4,
 "nbformat_minor": 2
}